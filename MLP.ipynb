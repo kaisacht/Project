{
  "nbformat": 4,
  "nbformat_minor": 0,
  "metadata": {
    "colab": {
      "provenance": [],
      "mount_file_id": "1qB6qBGjefVAuBX2VEpuZx6dSiMeEEZps",
      "authorship_tag": "ABX9TyNekRHdJGXz7HRL7VHTXNKq",
      "include_colab_link": true
    },
    "kernelspec": {
      "name": "python3",
      "display_name": "Python 3"
    },
    "language_info": {
      "name": "python"
    }
  },
  "cells": [
    {
      "cell_type": "markdown",
      "metadata": {
        "id": "view-in-github",
        "colab_type": "text"
      },
      "source": [
        "<a href=\"https://colab.research.google.com/github/kaisacht/Project/blob/main/MLP.ipynb\" target=\"_parent\"><img src=\"https://colab.research.google.com/assets/colab-badge.svg\" alt=\"Open In Colab\"/></a>"
      ]
    },
    {
      "cell_type": "code",
      "execution_count": null,
      "metadata": {
        "id": "6hRveXG3Lb4K"
      },
      "outputs": [],
      "source": [
        "from __future__ import print_function\n",
        " \n",
        "from tensorflow import keras\n",
        "import numpy as np\n",
        "import pandas as pd"
      ]
    },
    {
      "cell_type": "code",
      "source": [
        "np.random.seed(813306)"
      ],
      "metadata": {
        "id": "VA6Ir03rLjhQ"
      },
      "execution_count": null,
      "outputs": []
    },
    {
      "cell_type": "code",
      "source": [
        "from google.colab import files\n",
        "uploaded = files.upload()"
      ],
      "metadata": {
        "id": "m8L9q4eNLoWv"
      },
      "execution_count": null,
      "outputs": []
    },
    {
      "cell_type": "code",
      "source": [
        "def readucr(filename):\n",
        "    data = np.loadtxt(filename, delimiter = ',')\n",
        "    Y = data[:,0]\n",
        "    X = data[:,1:]\n",
        "    return X, Y"
      ],
      "metadata": {
        "id": "NjlJOM57LuVO"
      },
      "execution_count": null,
      "outputs": []
    },
    {
      "cell_type": "code",
      "source": [
        "x_train, y_train = readucr('dataset_9class_3day_TRAIN.txt')\n",
        "x_test, y_test = readucr('dataset_9class_3day_TEST.txt')"
      ],
      "metadata": {
        "id": "JhSj3l_3MApy"
      },
      "execution_count": null,
      "outputs": []
    },
    {
      "cell_type": "code",
      "source": [
        "print(x_test,y_test)"
      ],
      "metadata": {
        "id": "XAIlKfPwMDkj"
      },
      "execution_count": null,
      "outputs": []
    },
    {
      "cell_type": "code",
      "source": [
        "nb_epochs = 5000"
      ],
      "metadata": {
        "id": "HOGF6xU4LxM3"
      },
      "execution_count": null,
      "outputs": []
    },
    {
      "cell_type": "code",
      "source": [
        "flist = ['Adiac']\n",
        "for each in flist:\n",
        "    fname = each\n",
        "    x_train, y_train = readucr('dataset_9class_3day_TRAIN.txt')\n",
        "    x_test, y_test = readucr('dataset_9class_3day_TEST.txt')\n",
        "    nb_classes =len(np.unique(y_test))\n",
        "    y_train = (y_train - y_train.min())/(y_train.max()-y_train.min())*(nb_classes-1)\n",
        "    y_test = (y_test - y_test.min())/(y_test.max()-y_test.min())*(nb_classes-1)\n",
        "    batch_size = min(x_train.shape[0]/10, 16)\n",
        "    \n",
        "    Y_train = keras.utils.to_categorical(y_train, nb_classes)\n",
        "    Y_test = keras.utils.to_categorical(y_test, nb_classes)\n",
        "     \n",
        "    x_train_mean = x_train.mean()\n",
        "    x_train_std = x_train.std()\n",
        "    x_train = (x_train - x_train_mean)/(x_train_std)\n",
        "     \n",
        "   # x_test_min = np.min(x_test, axis = 1, keepdims=1)\n",
        "   # x_test_max = np.max(x_test, axis = 1, keepdims=1)\n",
        "    x_test = (x_test - x_train_mean)/(x_train_std)\n",
        "     \n",
        "    #x_train = x_train.reshape(x_train.shape + (1,))\n",
        "    #x_test = x_test.reshape(x_test.shape + (1,))\n",
        "    \n",
        "    x = keras.layers.Input(x_train.shape[1:])\n",
        "    y= keras.layers.Dropout(0.1)(x)\n",
        "    y = keras.layers.Dense(500, activation='relu')(y)\n",
        "    y = keras.layers.Dropout(0.2)(y)\n",
        "    y = keras.layers.Dense(500, activation='relu')(y)\n",
        "    y = keras.layers.Dropout(0.2)(y)\n",
        "    y = keras.layers.Dense(500, activation = 'relu')(y)\n",
        "    y = keras.layers.Dropout(0.3)(y)\n",
        "    out = keras.layers.Dense(nb_classes, activation='softmax')(y)\n",
        "     \n",
        "    model = keras.models.Model(inputs=x, outputs=out)\n",
        "     \n",
        "    optimizer = keras.optimizers.Adadelta()    \n",
        "    model.compile(loss='categorical_crossentropy',\n",
        "                  optimizer=optimizer,\n",
        "                  metrics=['accuracy'])\n",
        "     \n",
        "    reduce_lr = keras.callbacks.ReduceLROnPlateau(monitor = 'loss', factor=0.5,\n",
        "                      patience=200, min_lr=0.1)\n",
        "    \n",
        "    hist = model.fit(x_train, Y_train, batch_size=batch_size, epochs=nb_epochs,\n",
        "              verbose=1, validation_data=(x_test, Y_test), \n",
        "                #callbacks = [TestCallback((x_train, Y_train)), reduce_lr, keras.callbacks.TensorBoard(log_dir='./log'+fname, histogram_freq=1)])\n",
        "                 callbacks=[reduce_lr])\n",
        "    \n",
        "    #Print the testing results which has the lowest training loss.\n"
      ],
      "metadata": {
        "id": "wXNUvGjPL0TO"
      },
      "execution_count": null,
      "outputs": []
    },
    {
      "cell_type": "code",
      "source": [
        "    log = pd.DataFrame(hist.history)\n",
        "    print(log)"
      ],
      "metadata": {
        "id": "N1DjJPuQUfiE"
      },
      "execution_count": null,
      "outputs": []
    },
    {
      "cell_type": "code",
      "source": [
        "log_np = np.array(log)\n",
        "log_np\n",
        "min_index = (np.argmin(log_np, axis=0))\n",
        "print(log_np[min_index[0]])"
      ],
      "metadata": {
        "id": "ZGY7oR4SM1r9"
      },
      "execution_count": null,
      "outputs": []
    },
    {
      "cell_type": "code",
      "source": [
        "log_np = np.array(log)\n",
        "log_np\n",
        "max_index = (np.argmax(log_np, axis=0))\n",
        "print(log_np[max_index[3]])"
      ],
      "metadata": {
        "id": "2sTWs-p7QoQ3"
      },
      "execution_count": null,
      "outputs": []
    },
    {
      "cell_type": "code",
      "source": [
        "log_np = np.array(log)\n",
        "log_np\n",
        "min_index = (np.argmin(log_np, axis=0))\n",
        "print(log_np[min_index[2]])"
      ],
      "metadata": {
        "id": "vSx9-mZfRFKI"
      },
      "execution_count": null,
      "outputs": []
    },
    {
      "cell_type": "code",
      "source": [
        "log_np = np.array(log)\n",
        "log_np\n",
        "max_index = (np.argmax(log_np, axis=0))\n",
        "print(log_np[max_index[1]])"
      ],
      "metadata": {
        "id": "wFS8C3W1RZb2"
      },
      "execution_count": null,
      "outputs": []
    }
  ]
}